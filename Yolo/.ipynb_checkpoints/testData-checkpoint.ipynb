{
 "cells": [
  {
   "cell_type": "code",
   "execution_count": 16,
   "id": "8e3c461b-5f53-465e-a2b7-dec1963788ef",
   "metadata": {},
   "outputs": [],
   "source": [
    "import os"
   ]
  },
  {
   "cell_type": "code",
   "execution_count": 17,
   "id": "1cbd4373-b5e7-4ede-b284-329692c0c273",
   "metadata": {},
   "outputs": [],
   "source": [
    "train_data = os.listdir('YoloPoseDetection/data/images/train')\n",
    "train_labels = os.listdir('YoloPoseDetection/data/labels/train')"
   ]
  },
  {
   "cell_type": "code",
   "execution_count": 18,
   "id": "d7dd02e7-ca20-49b9-a64f-c28668e46d7a",
   "metadata": {},
   "outputs": [
    {
     "data": {
      "text/plain": [
       "2116"
      ]
     },
     "execution_count": 18,
     "metadata": {},
     "output_type": "execute_result"
    }
   ],
   "source": [
    "len(train_labels)"
   ]
  },
  {
   "cell_type": "code",
   "execution_count": 20,
   "id": "dc3193f4-17bf-4970-a43d-6bc34e640d07",
   "metadata": {},
   "outputs": [],
   "source": [
    "for i in train_data:\n",
    "    if (str(i.split('.')[0]) + '.txt') not in train_labels:\n",
    "        print(\"it's not exists\")"
   ]
  },
  {
   "cell_type": "code",
   "execution_count": null,
   "id": "170ed355-f7cb-4a8d-8e59-ea34dcf97917",
   "metadata": {},
   "outputs": [],
   "source": []
  }
 ],
 "metadata": {
  "kernelspec": {
   "display_name": "Python 3 (ipykernel)",
   "language": "python",
   "name": "python3"
  },
  "language_info": {
   "codemirror_mode": {
    "name": "ipython",
    "version": 3
   },
   "file_extension": ".py",
   "mimetype": "text/x-python",
   "name": "python",
   "nbconvert_exporter": "python",
   "pygments_lexer": "ipython3",
   "version": "3.11.5"
  }
 },
 "nbformat": 4,
 "nbformat_minor": 5
}
